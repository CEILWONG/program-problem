{
 "cells": [
  {
   "cell_type": "code",
   "execution_count": 13,
   "metadata": {},
   "outputs": [
    {
     "name": "stdout",
     "output_type": "stream",
     "text": [
      "(2, 3, 4) (5, 3, 4)\n",
      "(7, 3, 4)\n",
      "(2, 3, 4)\n"
     ]
    }
   ],
   "source": [
    "import numpy as np\n",
    "import random\n",
    "\n",
    "a=np.ndarray((2,3,4))\n",
    "b=np.ndarray((5,3,4))\n",
    "print a.shape,b.shape\n",
    "\n",
    "c = np.concatenate((a, b), axis = 0)\n",
    "print c.shape\n",
    "\n",
    "d=np.empty((0,3,4))\n",
    "e=np.concatenate((a, d), axis = 0)\n",
    "print e.shape\n"
   ]
  },
  {
   "cell_type": "code",
   "execution_count": 41,
   "metadata": {},
   "outputs": [
    {
     "name": "stdout",
     "output_type": "stream",
     "text": [
      "batch1\n",
      "batch2\n",
      "batch3\n",
      "batch4\n",
      "batch5\n"
     ]
    }
   ],
   "source": [
    "str='batch'\n",
    "\n",
    "for i in range(5):\n",
    "    x=str+'%d' %(i+1)\n",
    "    print x\n",
    "    \n",
    "\n",
    "\n",
    "    "
   ]
  },
  {
   "cell_type": "code",
   "execution_count": 39,
   "metadata": {},
   "outputs": [
    {
     "name": "stdout",
     "output_type": "stream",
     "text": [
      "(2, 3, 4) (4, 3, 4)\n",
      "(11, 3, 4)\n"
     ]
    }
   ],
   "source": [
    "a=np.ndarray((2,3,4))\n",
    "b=np.ndarray((5,3,4))\n",
    "\n",
    "b[:2,:,:]\n",
    "e=b[:2,:,:]\n",
    "d=np.concatenate((a,e))\n",
    "print e.shape,d.shape\n",
    "\n",
    "for i in range(3):\n",
    "    b=np.concatenate((b,a))\n",
    "    \n",
    "print b.shape"
   ]
  },
  {
   "cell_type": "code",
   "execution_count": 48,
   "metadata": {},
   "outputs": [
    {
     "name": "stdout",
     "output_type": "stream",
     "text": [
      "(200, 200)\n"
     ]
    }
   ],
   "source": [
    "from PIL import Image\n",
    "m=Image.open('c:/akeshe/image_data/batch1/1_1.png')\n",
    "\n",
    "\n",
    "a=np.asarray(m)\n",
    "print a.shape\n",
    "\n"
   ]
  },
  {
   "cell_type": "code",
   "execution_count": 14,
   "metadata": {},
   "outputs": [
    {
     "name": "stdout",
     "output_type": "stream",
     "text": [
      "(12, 50, 50)\n",
      "(12, 2500)\n"
     ]
    }
   ],
   "source": [
    "import numpy as np\n",
    "x=np.random.random((12,50,50))\n",
    "#mask=range(3)\n",
    "#x=x[mask]\n",
    "print x.shape\n",
    "x=np.reshape(x,(x.shape[0],-1))\n",
    "print x.shape"
   ]
  },
  {
   "cell_type": "code",
   "execution_count": 20,
   "metadata": {},
   "outputs": [
    {
     "name": "stdout",
     "output_type": "stream",
     "text": [
      "(2, 2)\n",
      "(1, 2)\n",
      "[[1 1]\n",
      " [1 1]]\n"
     ]
    }
   ],
   "source": [
    "a=np.array([[2,2],[2,2]])\n",
    "b=np.array([[3,3]])\n",
    "\n",
    "print a.shape\n",
    "print b.shape\n",
    "\n",
    "c=b-a\n",
    "print c\n"
   ]
  },
  {
   "cell_type": "code",
   "execution_count": 23,
   "metadata": {},
   "outputs": [
    {
     "name": "stdout",
     "output_type": "stream",
     "text": [
      "5\n",
      "[0 1 2 3 4]\n",
      "[0 1 2 3 4]\n"
     ]
    }
   ],
   "source": [
    "y=np.empty((5,),dtype=\"uint8\")\n",
    "x=np.empty((5,),dtype=\"uint8\")\n",
    "\n",
    "for i in range(5):\n",
    "    x[i]=i\n",
    "    y[i]=i\n",
    "\n",
    "correct_num=np.sum(x==y)\n",
    "\n",
    "print correct_num\n",
    "print x\n",
    "print y\n",
    "\n"
   ]
  },
  {
   "cell_type": "code",
   "execution_count": 28,
   "metadata": {},
   "outputs": [
    {
     "name": "stdout",
     "output_type": "stream",
     "text": [
      "[ 1.  2.  2.  3.  1.  1.]\n",
      "4\n"
     ]
    }
   ],
   "source": [
    "num_folds=6\n",
    "k=10\n",
    "\n",
    "closest_y=[1,2,4,4,3,5,6,4,3,2]\n",
    "\n",
    "count=np.zeros((num_folds,))\n",
    "for i in range(k):\n",
    "    count[closest_y[i]-1]+=1\n",
    "print count\n",
    "last=np.argsort(count)\n",
    "print (last[num_folds-1]+1)\n"
   ]
  }
 ],
 "metadata": {
  "kernelspec": {
   "display_name": "Python 2",
   "language": "python",
   "name": "python2"
  },
  "language_info": {
   "codemirror_mode": {
    "name": "ipython",
    "version": 2
   },
   "file_extension": ".py",
   "mimetype": "text/x-python",
   "name": "python",
   "nbconvert_exporter": "python",
   "pygments_lexer": "ipython2",
   "version": "2.7.14"
  }
 },
 "nbformat": 4,
 "nbformat_minor": 2
}
