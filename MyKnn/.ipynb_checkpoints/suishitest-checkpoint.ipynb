{
 "cells": [
  {
   "cell_type": "code",
   "execution_count": 13,
   "metadata": {},
   "outputs": [
    {
     "name": "stdout",
     "output_type": "stream",
     "text": [
      "(2, 3, 4) (5, 3, 4)\n",
      "(7, 3, 4)\n",
      "(2, 3, 4)\n"
     ]
    }
   ],
   "source": [
    "import numpy as np\n",
    "import random\n",
    "\n",
    "a=np.ndarray((2,3,4))\n",
    "b=np.ndarray((5,3,4))\n",
    "print a.shape,b.shape\n",
    "\n",
    "c = np.concatenate((a, b), axis = 0)\n",
    "print c.shape\n",
    "\n",
    "d=np.empty((0,3,4))\n",
    "e=np.concatenate((a, d), axis = 0)\n",
    "print e.shape\n"
   ]
  },
  {
   "cell_type": "code",
   "execution_count": 41,
   "metadata": {},
   "outputs": [
    {
     "name": "stdout",
     "output_type": "stream",
     "text": [
      "batch1\n",
      "batch2\n",
      "batch3\n",
      "batch4\n",
      "batch5\n"
     ]
    }
   ],
   "source": [
    "str='batch'\n",
    "\n",
    "for i in range(5):\n",
    "    x=str+'%d' %(i+1)\n",
    "    print x\n",
    "    \n",
    "\n",
    "\n",
    "    "
   ]
  },
  {
   "cell_type": "code",
   "execution_count": 39,
   "metadata": {},
   "outputs": [
    {
     "name": "stdout",
     "output_type": "stream",
     "text": [
      "(2, 3, 4) (4, 3, 4)\n",
      "(11, 3, 4)\n"
     ]
    }
   ],
   "source": [
    "a=np.ndarray((2,3,4))\n",
    "b=np.ndarray((5,3,4))\n",
    "\n",
    "b[:2,:,:]\n",
    "e=b[:2,:,:]\n",
    "d=np.concatenate((a,e))\n",
    "print e.shape,d.shape\n",
    "\n",
    "for i in range(3):\n",
    "    b=np.concatenate((b,a))\n",
    "    \n",
    "print b.shape"
   ]
  },
  {
   "cell_type": "code",
   "execution_count": 48,
   "metadata": {},
   "outputs": [
    {
     "name": "stdout",
     "output_type": "stream",
     "text": [
      "(200, 200)\n"
     ]
    }
   ],
   "source": [
    "from PIL import Image\n",
    "m=Image.open('c:/akeshe/image_data/batch1/1_1.png')\n",
    "\n",
    "\n",
    "a=np.asarray(m)\n",
    "print a.shape\n",
    "\n"
   ]
  },
  {
   "cell_type": "code",
   "execution_count": 14,
   "metadata": {},
   "outputs": [
    {
     "name": "stdout",
     "output_type": "stream",
     "text": [
      "(12, 50, 50)\n",
      "(12, 2500)\n"
     ]
    }
   ],
   "source": [
    "import numpy as np\n",
    "x=np.random.random((12,50,50))\n",
    "#mask=range(3)\n",
    "#x=x[mask]\n",
    "print x.shape\n",
    "x=np.reshape(x,(x.shape[0],-1))\n",
    "print x.shape"
   ]
  },
  {
   "cell_type": "code",
   "execution_count": 16,
   "metadata": {},
   "outputs": [
    {
     "ename": "AttributeError",
     "evalue": "'list' object has no attribute 'shape'",
     "output_type": "error",
     "traceback": [
      "\u001b[1;31m---------------------------------------------------------------------------\u001b[0m",
      "\u001b[1;31mAttributeError\u001b[0m                            Traceback (most recent call last)",
      "\u001b[1;32m<ipython-input-16-0887f29f97cf>\u001b[0m in \u001b[0;36m<module>\u001b[1;34m()\u001b[0m\n\u001b[0;32m      2\u001b[0m \u001b[0mb\u001b[0m\u001b[1;33m=\u001b[0m\u001b[1;33m[\u001b[0m\u001b[1;36m3\u001b[0m\u001b[1;33m,\u001b[0m\u001b[1;36m3\u001b[0m\u001b[1;33m]\u001b[0m\u001b[1;33m\u001b[0m\u001b[0m\n\u001b[0;32m      3\u001b[0m \u001b[1;33m\u001b[0m\u001b[0m\n\u001b[1;32m----> 4\u001b[1;33m \u001b[1;32mprint\u001b[0m \u001b[0ma\u001b[0m\u001b[1;33m.\u001b[0m\u001b[0mshape\u001b[0m\u001b[1;33m\u001b[0m\u001b[0m\n\u001b[0m\u001b[0;32m      5\u001b[0m \u001b[1;32mprint\u001b[0m \u001b[0mb\u001b[0m\u001b[1;33m\u001b[0m\u001b[0m\n",
      "\u001b[1;31mAttributeError\u001b[0m: 'list' object has no attribute 'shape'"
     ]
    }
   ],
   "source": [
    "a=np.array([2,2],[2,2])\n",
    "b=\n",
    "\n",
    "print a.shape\n",
    "print b\n"
   ]
  }
 ],
 "metadata": {
  "kernelspec": {
   "display_name": "Python 2",
   "language": "python",
   "name": "python2"
  },
  "language_info": {
   "codemirror_mode": {
    "name": "ipython",
    "version": 2
   },
   "file_extension": ".py",
   "mimetype": "text/x-python",
   "name": "python",
   "nbconvert_exporter": "python",
   "pygments_lexer": "ipython2",
   "version": "2.7.14"
  }
 },
 "nbformat": 4,
 "nbformat_minor": 2
}
