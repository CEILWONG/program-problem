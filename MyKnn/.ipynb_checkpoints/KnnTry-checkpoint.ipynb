{
 "cells": [
  {
   "cell_type": "code",
   "execution_count": 55,
   "metadata": {},
   "outputs": [
    {
     "name": "stdout",
     "output_type": "stream",
     "text": [
      "(240, 100, 100)\n",
      "(240,)\n",
      "(240, 100, 100)\n",
      "(240,)\n"
     ]
    }
   ],
   "source": [
    "import numpy as np\n",
    "import os\n",
    "from imgfunc import rand_train_data\n",
    "path=\"c:/akeshe/image_data\"\n",
    "\n",
    "x_train,y_train,x_test,y_test=rand_train_data(path,100,100,40,40)\n",
    "\n",
    "print x_train.shape\n",
    "print y_train.shape\n",
    "print x_test.shape\n",
    "print y_test.shape"
   ]
  },
  {
   "cell_type": "code",
   "execution_count": 56,
   "metadata": {},
   "outputs": [
    {
     "name": "stdout",
     "output_type": "stream",
     "text": [
      "[[113  42  15 ..., 142 150 178]\n",
      " [ 45  55  46 ...,  39  37  35]\n",
      " [  4 117 175 ...,  86  88  90]\n",
      " ..., \n",
      " [192 139 186 ..., 112  83 132]\n",
      " [118 126 145 ..., 136 183 164]\n",
      " [202 125 122 ..., 191 188 194]]\n",
      "(240, 10000)\n",
      "[[ 59  45  26 ...,  55  42  33]\n",
      " [ 78 122 209 ...,  31  18  10]\n",
      " [109 156 184 ...,  69  34  14]\n",
      " ..., \n",
      " [150 159 165 ..., 171 167 164]\n",
      " [225 194 204 ..., 164 156 178]\n",
      " [125 146 110 ..., 139 143 110]]\n"
     ]
    }
   ],
   "source": [
    "x_train=np.reshape(x_train,(x_train.shape[0],-1))\n",
    "x_test=np.reshape(x_test,(x_test.shape[0],-1))\n",
    "\n",
    "print x_train\n",
    "print x_test.shape\n",
    "print x_test"
   ]
  },
  {
   "cell_type": "code",
   "execution_count": 57,
   "metadata": {},
   "outputs": [
    {
     "name": "stdout",
     "output_type": "stream",
     "text": [
      "(240, 240)\n",
      "[[ 1024.94243741  1012.83414239  1025.82600864 ...,  1030.28636796\n",
      "   1025.65491273  1033.80704196]\n",
      " [ 1013.01085878  1009.03964243  1022.2392088  ...,  1033.39730985\n",
      "   1027.63709548  1033.02420107]\n",
      " [ 1029.1336162   1004.84426654  1035.51339924 ...,  1019.9838234\n",
      "   1014.7950532   1029.79124098]\n",
      " ..., \n",
      " [ 1038.77957238   981.98319741  1027.60546904 ...,  1010.10296505\n",
      "   1007.58721707  1031.052375  ]\n",
      " [ 1030.59109253  1020.68702353  1029.5523299  ...,  1034.25093667\n",
      "   1030.25870537  1034.17406659]\n",
      " [ 1022.49009775  1002.73725372  1027.82391488 ...,  1023.448582\n",
      "   1024.35296651  1030.74827189]]\n"
     ]
    }
   ],
   "source": [
    "num_train=x_train.shape[0]\n",
    "num_test=x_test.shape[0]\n",
    "dists=np.zeros((num_test,num_train))\n",
    "\n",
    "for i in range(num_test):\n",
    "    for j in range(num_train):\n",
    "        train=x_train[j,:]\n",
    "        test=x_test[i,:]\n",
    "        distance=np.sqrt(np.sum((train-test)**2))\n",
    "        dists[i,j]=distance\n",
    "print dists.shape\n",
    "print dists"
   ]
  },
  {
   "cell_type": "code",
   "execution_count": 58,
   "metadata": {},
   "outputs": [
    {
     "name": "stdout",
     "output_type": "stream",
     "text": [
      "Got 239/240 correct => accuracy: 0.995833\n"
     ]
    }
   ],
   "source": [
    "\n",
    "y_pre=np.empty((num_test,),dtype=\"uint8\")\n",
    "k=10\n",
    "num_folds=6\n",
    "closest_y=[]\n",
    "for i in range(num_test):\n",
    "    idx=np.argsort(dists[i,:],-1)\n",
    "    closest_y=y_train[idx[:k]]\n",
    "    count=np.zeros((num_folds,))\n",
    "    for i in range(k):\n",
    "        count[closest_y[i]-1]+=1\n",
    "    last=np.argsort(count)\n",
    "    y_pre[i]=(last[num_folds-1]+1)\n",
    "num_correct=np.sum(y_pre==y_test)\n",
    "accuracy=float(num_correct)/num_test\n",
    "\n",
    "print 'Got %d/%d correct => accuracy: %f' %(num_correct,num_test,accuracy)\n",
    "    \n",
    "    \n",
    "\n",
    "\n"
   ]
  }
 ],
 "metadata": {
  "kernelspec": {
   "display_name": "Python 2",
   "language": "python",
   "name": "python2"
  },
  "language_info": {
   "codemirror_mode": {
    "name": "ipython",
    "version": 2
   },
   "file_extension": ".py",
   "mimetype": "text/x-python",
   "name": "python",
   "nbconvert_exporter": "python",
   "pygments_lexer": "ipython2",
   "version": "2.7.14"
  }
 },
 "nbformat": 4,
 "nbformat_minor": 2
}
